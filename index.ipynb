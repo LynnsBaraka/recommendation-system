#Histogram


plt.hist(data['Quantity'], bins=20, edgecolor='black')
plt.xlabel('Quantity')
plt.ylabel('Frequency')
plt.title('Distribution of Quantity')
plt.show()
